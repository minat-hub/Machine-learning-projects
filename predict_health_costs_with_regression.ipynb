{
  "nbformat": 4,
  "nbformat_minor": 0,
  "metadata": {
    "colab": {
      "name": "predict_health_costs_with_regression.ipynb",
      "provenance": [],
      "collapsed_sections": [],
      "toc_visible": true,
      "include_colab_link": true
    },
    "kernelspec": {
      "display_name": "Python 3",
      "name": "python3"
    }
  },
  "cells": [
    {
      "cell_type": "markdown",
      "metadata": {
        "id": "view-in-github",
        "colab_type": "text"
      },
      "source": [
        "<a href=\"https://colab.research.google.com/github/minat-hub/Machine-learning-projects/blob/main/predict_health_costs_with_regression.ipynb\" target=\"_parent\"><img src=\"https://colab.research.google.com/assets/colab-badge.svg\" alt=\"Open In Colab\"/></a>"
      ]
    },
    {
      "cell_type": "markdown",
      "metadata": {
        "id": "M9TX15KOkPBV"
      },
      "source": [
        "*Note: You are currently reading this using Google Colaboratory which is a cloud-hosted version of Jupyter Notebook. This is a document containing both text cells for documentation and runnable code cells. If you are unfamiliar with Jupyter Notebook, watch this 3-minute introduction before starting this challenge: https://www.youtube.com/watch?v=inN8seMm7UI*\n",
        "\n",
        "---\n",
        "\n",
        "In this challenge, you will predict healthcare costs using a regression algorithm.\n",
        "\n",
        "You are given a dataset that contains information about different people including their healthcare costs. Use the data to predict healthcare costs based on new data.\n",
        "\n",
        "The first two cells of this notebook import libraries and the data.\n",
        "\n",
        "Make sure to convert categorical data to numbers. Use 80% of the data as the `train_dataset` and 20% of the data as the `test_dataset`.\n",
        "\n",
        "`pop` off the \"expenses\" column from these datasets to create new datasets called `train_labels` and `test_labels`. Use these labels when training your model.\n",
        "\n",
        "Create a model and train it with the `train_dataset`. Run the final cell in this notebook to check your model. The final cell will use the unseen `test_dataset` to check how well the model generalizes.\n",
        "\n",
        "To pass the challenge, `model.evaluate` must return a Mean Absolute Error of under 3500. This means it predicts health care costs correctly within $3500.\n",
        "\n",
        "The final cell will also predict expenses using the `test_dataset` and graph the results."
      ]
    },
    {
      "cell_type": "code",
      "metadata": {
        "id": "1rRo8oNqZ-Rj",
        "colab": {
          "base_uri": "https://localhost:8080/"
        },
        "outputId": "7e9f5180-93d7-4ad1-e627-dc40714f0787"
      },
      "source": [
        "# Import libraries. You may or may not use all of these.\n",
        "!pip install -q git+https://github.com/tensorflow/docs\n",
        "import matplotlib.pyplot as plt\n",
        "import numpy as np\n",
        "import pandas as pd\n",
        "from sklearn.linear_model import LinearRegression, Ridge, Lasso\n",
        "from sklearn.model_selection import train_test_split\n",
        "from sklearn.metrics import mean_absolute_error, mean_squared_error, accuracy_score\n",
        "\n",
        "from xgboost import XGBRegressor\n",
        "\n",
        "#xgboost triggers a deprecation warning which we ignore here \n",
        "import warnings\n",
        "warnings.filterwarnings(action='ignore')\n",
        "\n",
        "%matplotlib inline\n",
        "\n",
        "try:\n",
        "  # %tensorflow_version only exists in Colab.\n",
        "  %tensorflow_version 2.x\n",
        "except Exception:\n",
        "  pass\n",
        "import tensorflow as tf\n",
        "\n",
        "from tensorflow import keras\n",
        "from tensorflow.keras import layers\n",
        "import seaborn as sns\n",
        "\n",
        "import tensorflow_docs as tfdocs\n",
        "import tensorflow_docs.plots\n",
        "import tensorflow_docs.modeling"
      ],
      "execution_count": 1,
      "outputs": [
        {
          "output_type": "stream",
          "text": [
            "\u001b[?25l\r\u001b[K     |▎                               | 10kB 15.7MB/s eta 0:00:01\r\u001b[K     |▋                               | 20kB 22.9MB/s eta 0:00:01\r\u001b[K     |█                               | 30kB 12.6MB/s eta 0:00:01\r\u001b[K     |█▎                              | 40kB 9.2MB/s eta 0:00:01\r\u001b[K     |█▋                              | 51kB 4.5MB/s eta 0:00:01\r\u001b[K     |██                              | 61kB 5.0MB/s eta 0:00:01\r\u001b[K     |██▎                             | 71kB 5.1MB/s eta 0:00:01\r\u001b[K     |██▋                             | 81kB 5.4MB/s eta 0:00:01\r\u001b[K     |██▉                             | 92kB 5.7MB/s eta 0:00:01\r\u001b[K     |███▏                            | 102kB 4.3MB/s eta 0:00:01\r\u001b[K     |███▌                            | 112kB 4.3MB/s eta 0:00:01\r\u001b[K     |███▉                            | 122kB 4.3MB/s eta 0:00:01\r\u001b[K     |████▏                           | 133kB 4.3MB/s eta 0:00:01\r\u001b[K     |████▌                           | 143kB 4.3MB/s eta 0:00:01\r\u001b[K     |████▉                           | 153kB 4.3MB/s eta 0:00:01\r\u001b[K     |█████▏                          | 163kB 4.3MB/s eta 0:00:01\r\u001b[K     |█████▌                          | 174kB 4.3MB/s eta 0:00:01\r\u001b[K     |█████▊                          | 184kB 4.3MB/s eta 0:00:01\r\u001b[K     |██████                          | 194kB 4.3MB/s eta 0:00:01\r\u001b[K     |██████▍                         | 204kB 4.3MB/s eta 0:00:01\r\u001b[K     |██████▊                         | 215kB 4.3MB/s eta 0:00:01\r\u001b[K     |███████                         | 225kB 4.3MB/s eta 0:00:01\r\u001b[K     |███████▍                        | 235kB 4.3MB/s eta 0:00:01\r\u001b[K     |███████▊                        | 245kB 4.3MB/s eta 0:00:01\r\u001b[K     |████████                        | 256kB 4.3MB/s eta 0:00:01\r\u001b[K     |████████▍                       | 266kB 4.3MB/s eta 0:00:01\r\u001b[K     |████████▋                       | 276kB 4.3MB/s eta 0:00:01\r\u001b[K     |█████████                       | 286kB 4.3MB/s eta 0:00:01\r\u001b[K     |█████████▎                      | 296kB 4.3MB/s eta 0:00:01\r\u001b[K     |█████████▋                      | 307kB 4.3MB/s eta 0:00:01\r\u001b[K     |██████████                      | 317kB 4.3MB/s eta 0:00:01\r\u001b[K     |██████████▎                     | 327kB 4.3MB/s eta 0:00:01\r\u001b[K     |██████████▋                     | 337kB 4.3MB/s eta 0:00:01\r\u001b[K     |███████████                     | 348kB 4.3MB/s eta 0:00:01\r\u001b[K     |███████████▎                    | 358kB 4.3MB/s eta 0:00:01\r\u001b[K     |███████████▌                    | 368kB 4.3MB/s eta 0:00:01\r\u001b[K     |███████████▉                    | 378kB 4.3MB/s eta 0:00:01\r\u001b[K     |████████████▏                   | 389kB 4.3MB/s eta 0:00:01\r\u001b[K     |████████████▌                   | 399kB 4.3MB/s eta 0:00:01\r\u001b[K     |████████████▉                   | 409kB 4.3MB/s eta 0:00:01\r\u001b[K     |█████████████▏                  | 419kB 4.3MB/s eta 0:00:01\r\u001b[K     |█████████████▌                  | 430kB 4.3MB/s eta 0:00:01\r\u001b[K     |█████████████▉                  | 440kB 4.3MB/s eta 0:00:01\r\u001b[K     |██████████████▏                 | 450kB 4.3MB/s eta 0:00:01\r\u001b[K     |██████████████▍                 | 460kB 4.3MB/s eta 0:00:01\r\u001b[K     |██████████████▊                 | 471kB 4.3MB/s eta 0:00:01\r\u001b[K     |███████████████                 | 481kB 4.3MB/s eta 0:00:01\r\u001b[K     |███████████████▍                | 491kB 4.3MB/s eta 0:00:01\r\u001b[K     |███████████████▊                | 501kB 4.3MB/s eta 0:00:01\r\u001b[K     |████████████████                | 512kB 4.3MB/s eta 0:00:01\r\u001b[K     |████████████████▍               | 522kB 4.3MB/s eta 0:00:01\r\u001b[K     |████████████████▊               | 532kB 4.3MB/s eta 0:00:01\r\u001b[K     |█████████████████               | 542kB 4.3MB/s eta 0:00:01\r\u001b[K     |█████████████████▎              | 552kB 4.3MB/s eta 0:00:01\r\u001b[K     |█████████████████▋              | 563kB 4.3MB/s eta 0:00:01\r\u001b[K     |██████████████████              | 573kB 4.3MB/s eta 0:00:01\r\u001b[K     |██████████████████▎             | 583kB 4.3MB/s eta 0:00:01\r\u001b[K     |██████████████████▋             | 593kB 4.3MB/s eta 0:00:01\r\u001b[K     |███████████████████             | 604kB 4.3MB/s eta 0:00:01\r\u001b[K     |███████████████████▎            | 614kB 4.3MB/s eta 0:00:01\r\u001b[K     |███████████████████▋            | 624kB 4.3MB/s eta 0:00:01\r\u001b[K     |████████████████████            | 634kB 4.3MB/s eta 0:00:01\r\u001b[K     |████████████████████▏           | 645kB 4.3MB/s eta 0:00:01\r\u001b[K     |████████████████████▌           | 655kB 4.3MB/s eta 0:00:01\r\u001b[K     |████████████████████▉           | 665kB 4.3MB/s eta 0:00:01\r\u001b[K     |█████████████████████▏          | 675kB 4.3MB/s eta 0:00:01\r\u001b[K     |█████████████████████▌          | 686kB 4.3MB/s eta 0:00:01\r\u001b[K     |█████████████████████▉          | 696kB 4.3MB/s eta 0:00:01\r\u001b[K     |██████████████████████▏         | 706kB 4.3MB/s eta 0:00:01\r\u001b[K     |██████████████████████▌         | 716kB 4.3MB/s eta 0:00:01\r\u001b[K     |██████████████████████▉         | 727kB 4.3MB/s eta 0:00:01\r\u001b[K     |███████████████████████         | 737kB 4.3MB/s eta 0:00:01\r\u001b[K     |███████████████████████▍        | 747kB 4.3MB/s eta 0:00:01\r\u001b[K     |███████████████████████▊        | 757kB 4.3MB/s eta 0:00:01\r\u001b[K     |████████████████████████        | 768kB 4.3MB/s eta 0:00:01\r\u001b[K     |████████████████████████▍       | 778kB 4.3MB/s eta 0:00:01\r\u001b[K     |████████████████████████▊       | 788kB 4.3MB/s eta 0:00:01\r\u001b[K     |█████████████████████████       | 798kB 4.3MB/s eta 0:00:01\r\u001b[K     |█████████████████████████▍      | 808kB 4.3MB/s eta 0:00:01\r\u001b[K     |█████████████████████████▊      | 819kB 4.3MB/s eta 0:00:01\r\u001b[K     |██████████████████████████      | 829kB 4.3MB/s eta 0:00:01\r\u001b[K     |██████████████████████████▎     | 839kB 4.3MB/s eta 0:00:01\r\u001b[K     |██████████████████████████▋     | 849kB 4.3MB/s eta 0:00:01\r\u001b[K     |███████████████████████████     | 860kB 4.3MB/s eta 0:00:01\r\u001b[K     |███████████████████████████▎    | 870kB 4.3MB/s eta 0:00:01\r\u001b[K     |███████████████████████████▋    | 880kB 4.3MB/s eta 0:00:01\r\u001b[K     |████████████████████████████    | 890kB 4.3MB/s eta 0:00:01\r\u001b[K     |████████████████████████████▎   | 901kB 4.3MB/s eta 0:00:01\r\u001b[K     |████████████████████████████▋   | 911kB 4.3MB/s eta 0:00:01\r\u001b[K     |████████████████████████████▉   | 921kB 4.3MB/s eta 0:00:01\r\u001b[K     |█████████████████████████████▏  | 931kB 4.3MB/s eta 0:00:01\r\u001b[K     |█████████████████████████████▌  | 942kB 4.3MB/s eta 0:00:01\r\u001b[K     |█████████████████████████████▉  | 952kB 4.3MB/s eta 0:00:01\r\u001b[K     |██████████████████████████████▏ | 962kB 4.3MB/s eta 0:00:01\r\u001b[K     |██████████████████████████████▌ | 972kB 4.3MB/s eta 0:00:01\r\u001b[K     |██████████████████████████████▉ | 983kB 4.3MB/s eta 0:00:01\r\u001b[K     |███████████████████████████████▏| 993kB 4.3MB/s eta 0:00:01\r\u001b[K     |███████████████████████████████▌| 1.0MB 4.3MB/s eta 0:00:01\r\u001b[K     |███████████████████████████████▊| 1.0MB 4.3MB/s eta 0:00:01\r\u001b[K     |████████████████████████████████| 1.0MB 4.3MB/s \n",
            "\u001b[?25h  Building wheel for tensorflow-docs (setup.py) ... \u001b[?25l\u001b[?25hdone\n"
          ],
          "name": "stdout"
        }
      ]
    },
    {
      "cell_type": "code",
      "metadata": {
        "id": "CiX2FI4gZtTt",
        "colab": {
          "base_uri": "https://localhost:8080/",
          "height": 391
        },
        "outputId": "3a105abe-763a-441e-ea7a-b26fe3a1715e"
      },
      "source": [
        "# Import data\n",
        "!wget https://cdn.freecodecamp.org/project-data/health-costs/insurance.csv\n",
        "dataset = pd.read_csv('insurance.csv')\n",
        "dataset.tail()"
      ],
      "execution_count": 2,
      "outputs": [
        {
          "output_type": "stream",
          "text": [
            "--2021-01-06 10:01:20--  https://cdn.freecodecamp.org/project-data/health-costs/insurance.csv\n",
            "Resolving cdn.freecodecamp.org (cdn.freecodecamp.org)... 104.26.2.33, 104.26.3.33, 172.67.70.149, ...\n",
            "Connecting to cdn.freecodecamp.org (cdn.freecodecamp.org)|104.26.2.33|:443... connected.\n",
            "HTTP request sent, awaiting response... 200 OK\n",
            "Length: unspecified [text/csv]\n",
            "Saving to: ‘insurance.csv’\n",
            "\n",
            "insurance.csv           [ <=>                ]  49.09K  --.-KB/s    in 0s      \n",
            "\n",
            "2021-01-06 10:01:20 (113 MB/s) - ‘insurance.csv’ saved [50264]\n",
            "\n"
          ],
          "name": "stdout"
        },
        {
          "output_type": "execute_result",
          "data": {
            "text/html": [
              "<div>\n",
              "<style scoped>\n",
              "    .dataframe tbody tr th:only-of-type {\n",
              "        vertical-align: middle;\n",
              "    }\n",
              "\n",
              "    .dataframe tbody tr th {\n",
              "        vertical-align: top;\n",
              "    }\n",
              "\n",
              "    .dataframe thead th {\n",
              "        text-align: right;\n",
              "    }\n",
              "</style>\n",
              "<table border=\"1\" class=\"dataframe\">\n",
              "  <thead>\n",
              "    <tr style=\"text-align: right;\">\n",
              "      <th></th>\n",
              "      <th>age</th>\n",
              "      <th>sex</th>\n",
              "      <th>bmi</th>\n",
              "      <th>children</th>\n",
              "      <th>smoker</th>\n",
              "      <th>region</th>\n",
              "      <th>expenses</th>\n",
              "    </tr>\n",
              "  </thead>\n",
              "  <tbody>\n",
              "    <tr>\n",
              "      <th>1333</th>\n",
              "      <td>50</td>\n",
              "      <td>male</td>\n",
              "      <td>31.0</td>\n",
              "      <td>3</td>\n",
              "      <td>no</td>\n",
              "      <td>northwest</td>\n",
              "      <td>10600.55</td>\n",
              "    </tr>\n",
              "    <tr>\n",
              "      <th>1334</th>\n",
              "      <td>18</td>\n",
              "      <td>female</td>\n",
              "      <td>31.9</td>\n",
              "      <td>0</td>\n",
              "      <td>no</td>\n",
              "      <td>northeast</td>\n",
              "      <td>2205.98</td>\n",
              "    </tr>\n",
              "    <tr>\n",
              "      <th>1335</th>\n",
              "      <td>18</td>\n",
              "      <td>female</td>\n",
              "      <td>36.9</td>\n",
              "      <td>0</td>\n",
              "      <td>no</td>\n",
              "      <td>southeast</td>\n",
              "      <td>1629.83</td>\n",
              "    </tr>\n",
              "    <tr>\n",
              "      <th>1336</th>\n",
              "      <td>21</td>\n",
              "      <td>female</td>\n",
              "      <td>25.8</td>\n",
              "      <td>0</td>\n",
              "      <td>no</td>\n",
              "      <td>southwest</td>\n",
              "      <td>2007.95</td>\n",
              "    </tr>\n",
              "    <tr>\n",
              "      <th>1337</th>\n",
              "      <td>61</td>\n",
              "      <td>female</td>\n",
              "      <td>29.1</td>\n",
              "      <td>0</td>\n",
              "      <td>yes</td>\n",
              "      <td>northwest</td>\n",
              "      <td>29141.36</td>\n",
              "    </tr>\n",
              "  </tbody>\n",
              "</table>\n",
              "</div>"
            ],
            "text/plain": [
              "      age     sex   bmi  children smoker     region  expenses\n",
              "1333   50    male  31.0         3     no  northwest  10600.55\n",
              "1334   18  female  31.9         0     no  northeast   2205.98\n",
              "1335   18  female  36.9         0     no  southeast   1629.83\n",
              "1336   21  female  25.8         0     no  southwest   2007.95\n",
              "1337   61  female  29.1         0    yes  northwest  29141.36"
            ]
          },
          "metadata": {
            "tags": []
          },
          "execution_count": 2
        }
      ]
    },
    {
      "cell_type": "code",
      "metadata": {
        "id": "LcopvQh3X-kX",
        "colab": {
          "base_uri": "https://localhost:8080/",
          "height": 204
        },
        "outputId": "922b0c86-b675-434a-9721-544747656b1f"
      },
      "source": [
        "dataset = dataset.copy()\n",
        "dataset.tail()"
      ],
      "execution_count": 3,
      "outputs": [
        {
          "output_type": "execute_result",
          "data": {
            "text/html": [
              "<div>\n",
              "<style scoped>\n",
              "    .dataframe tbody tr th:only-of-type {\n",
              "        vertical-align: middle;\n",
              "    }\n",
              "\n",
              "    .dataframe tbody tr th {\n",
              "        vertical-align: top;\n",
              "    }\n",
              "\n",
              "    .dataframe thead th {\n",
              "        text-align: right;\n",
              "    }\n",
              "</style>\n",
              "<table border=\"1\" class=\"dataframe\">\n",
              "  <thead>\n",
              "    <tr style=\"text-align: right;\">\n",
              "      <th></th>\n",
              "      <th>age</th>\n",
              "      <th>sex</th>\n",
              "      <th>bmi</th>\n",
              "      <th>children</th>\n",
              "      <th>smoker</th>\n",
              "      <th>region</th>\n",
              "      <th>expenses</th>\n",
              "    </tr>\n",
              "  </thead>\n",
              "  <tbody>\n",
              "    <tr>\n",
              "      <th>1333</th>\n",
              "      <td>50</td>\n",
              "      <td>male</td>\n",
              "      <td>31.0</td>\n",
              "      <td>3</td>\n",
              "      <td>no</td>\n",
              "      <td>northwest</td>\n",
              "      <td>10600.55</td>\n",
              "    </tr>\n",
              "    <tr>\n",
              "      <th>1334</th>\n",
              "      <td>18</td>\n",
              "      <td>female</td>\n",
              "      <td>31.9</td>\n",
              "      <td>0</td>\n",
              "      <td>no</td>\n",
              "      <td>northeast</td>\n",
              "      <td>2205.98</td>\n",
              "    </tr>\n",
              "    <tr>\n",
              "      <th>1335</th>\n",
              "      <td>18</td>\n",
              "      <td>female</td>\n",
              "      <td>36.9</td>\n",
              "      <td>0</td>\n",
              "      <td>no</td>\n",
              "      <td>southeast</td>\n",
              "      <td>1629.83</td>\n",
              "    </tr>\n",
              "    <tr>\n",
              "      <th>1336</th>\n",
              "      <td>21</td>\n",
              "      <td>female</td>\n",
              "      <td>25.8</td>\n",
              "      <td>0</td>\n",
              "      <td>no</td>\n",
              "      <td>southwest</td>\n",
              "      <td>2007.95</td>\n",
              "    </tr>\n",
              "    <tr>\n",
              "      <th>1337</th>\n",
              "      <td>61</td>\n",
              "      <td>female</td>\n",
              "      <td>29.1</td>\n",
              "      <td>0</td>\n",
              "      <td>yes</td>\n",
              "      <td>northwest</td>\n",
              "      <td>29141.36</td>\n",
              "    </tr>\n",
              "  </tbody>\n",
              "</table>\n",
              "</div>"
            ],
            "text/plain": [
              "      age     sex   bmi  children smoker     region  expenses\n",
              "1333   50    male  31.0         3     no  northwest  10600.55\n",
              "1334   18  female  31.9         0     no  northeast   2205.98\n",
              "1335   18  female  36.9         0     no  southeast   1629.83\n",
              "1336   21  female  25.8         0     no  southwest   2007.95\n",
              "1337   61  female  29.1         0    yes  northwest  29141.36"
            ]
          },
          "metadata": {
            "tags": []
          },
          "execution_count": 3
        }
      ]
    },
    {
      "cell_type": "code",
      "metadata": {
        "colab": {
          "base_uri": "https://localhost:8080/"
        },
        "id": "XUo85ueXaQJv",
        "outputId": "b3188828-ace3-4fbd-dd14-2aca18873cf5"
      },
      "source": [
        "dataset.isna().sum()"
      ],
      "execution_count": 4,
      "outputs": [
        {
          "output_type": "execute_result",
          "data": {
            "text/plain": [
              "age         0\n",
              "sex         0\n",
              "bmi         0\n",
              "children    0\n",
              "smoker      0\n",
              "region      0\n",
              "expenses    0\n",
              "dtype: int64"
            ]
          },
          "metadata": {
            "tags": []
          },
          "execution_count": 4
        }
      ]
    },
    {
      "cell_type": "code",
      "metadata": {
        "id": "0p_LxtaaaTR6"
      },
      "source": [
        "dataset = dataset.dropna()"
      ],
      "execution_count": 5,
      "outputs": []
    },
    {
      "cell_type": "code",
      "metadata": {
        "colab": {
          "base_uri": "https://localhost:8080/"
        },
        "id": "FmJGw51weAAx",
        "outputId": "311b1b4b-8648-4f7e-ded2-985db2f4c5a4"
      },
      "source": [
        "labels = dataset['sex'].astype('category').cat.categories.tolist()\n",
        "sex = {'sex' : {k: v for k,v in zip(labels,list(range(1,len(labels)+1)))}}\n",
        "\n",
        "print(sex)"
      ],
      "execution_count": 6,
      "outputs": [
        {
          "output_type": "stream",
          "text": [
            "{'sex': {'female': 1, 'male': 2}}\n"
          ],
          "name": "stdout"
        }
      ]
    },
    {
      "cell_type": "code",
      "metadata": {
        "colab": {
          "base_uri": "https://localhost:8080/"
        },
        "id": "IpkRWSrweiaJ",
        "outputId": "4b64179f-26d9-4bc3-8b5e-1574fef2b6cf"
      },
      "source": [
        "labels = dataset['smoker'].astype('category').cat.categories.tolist()\n",
        "smoker = {'smoker' : {k: v for k,v in zip(labels,list(range(1,len(labels)+1)))}}\n",
        "\n",
        "print(smoker)"
      ],
      "execution_count": 7,
      "outputs": [
        {
          "output_type": "stream",
          "text": [
            "{'smoker': {'no': 1, 'yes': 2}}\n"
          ],
          "name": "stdout"
        }
      ]
    },
    {
      "cell_type": "code",
      "metadata": {
        "colab": {
          "base_uri": "https://localhost:8080/"
        },
        "id": "g6N1EG7-fPYa",
        "outputId": "c02b1f34-6705-40b7-ced9-af73be56383a"
      },
      "source": [
        "labels = dataset['region'].astype('category').cat.categories.tolist()\n",
        "region = {'region' : {k: v for k,v in zip(labels,list(range(1,len(labels)+1)))}}\n",
        "\n",
        "print(region)"
      ],
      "execution_count": 8,
      "outputs": [
        {
          "output_type": "stream",
          "text": [
            "{'region': {'northeast': 1, 'northwest': 2, 'southeast': 3, 'southwest': 4}}\n"
          ],
          "name": "stdout"
        }
      ]
    },
    {
      "cell_type": "code",
      "metadata": {
        "id": "55eMm7X6f6W8"
      },
      "source": [
        "dataset.replace(sex, inplace=True)"
      ],
      "execution_count": 9,
      "outputs": []
    },
    {
      "cell_type": "code",
      "metadata": {
        "id": "HBIdwto3g2bC"
      },
      "source": [
        "dataset.replace(smoker, inplace=True)"
      ],
      "execution_count": 10,
      "outputs": []
    },
    {
      "cell_type": "code",
      "metadata": {
        "id": "FEKWBSjlg8zM"
      },
      "source": [
        "dataset.replace(region, inplace=True)"
      ],
      "execution_count": 11,
      "outputs": []
    },
    {
      "cell_type": "code",
      "metadata": {
        "colab": {
          "base_uri": "https://localhost:8080/",
          "height": 204
        },
        "id": "8PkIwozvhFfN",
        "outputId": "0a8e698c-c4a4-4663-a1cb-e2dcfb8f893f"
      },
      "source": [
        "dataset.tail()"
      ],
      "execution_count": 12,
      "outputs": [
        {
          "output_type": "execute_result",
          "data": {
            "text/html": [
              "<div>\n",
              "<style scoped>\n",
              "    .dataframe tbody tr th:only-of-type {\n",
              "        vertical-align: middle;\n",
              "    }\n",
              "\n",
              "    .dataframe tbody tr th {\n",
              "        vertical-align: top;\n",
              "    }\n",
              "\n",
              "    .dataframe thead th {\n",
              "        text-align: right;\n",
              "    }\n",
              "</style>\n",
              "<table border=\"1\" class=\"dataframe\">\n",
              "  <thead>\n",
              "    <tr style=\"text-align: right;\">\n",
              "      <th></th>\n",
              "      <th>age</th>\n",
              "      <th>sex</th>\n",
              "      <th>bmi</th>\n",
              "      <th>children</th>\n",
              "      <th>smoker</th>\n",
              "      <th>region</th>\n",
              "      <th>expenses</th>\n",
              "    </tr>\n",
              "  </thead>\n",
              "  <tbody>\n",
              "    <tr>\n",
              "      <th>1333</th>\n",
              "      <td>50</td>\n",
              "      <td>2</td>\n",
              "      <td>31.0</td>\n",
              "      <td>3</td>\n",
              "      <td>1</td>\n",
              "      <td>2</td>\n",
              "      <td>10600.55</td>\n",
              "    </tr>\n",
              "    <tr>\n",
              "      <th>1334</th>\n",
              "      <td>18</td>\n",
              "      <td>1</td>\n",
              "      <td>31.9</td>\n",
              "      <td>0</td>\n",
              "      <td>1</td>\n",
              "      <td>1</td>\n",
              "      <td>2205.98</td>\n",
              "    </tr>\n",
              "    <tr>\n",
              "      <th>1335</th>\n",
              "      <td>18</td>\n",
              "      <td>1</td>\n",
              "      <td>36.9</td>\n",
              "      <td>0</td>\n",
              "      <td>1</td>\n",
              "      <td>3</td>\n",
              "      <td>1629.83</td>\n",
              "    </tr>\n",
              "    <tr>\n",
              "      <th>1336</th>\n",
              "      <td>21</td>\n",
              "      <td>1</td>\n",
              "      <td>25.8</td>\n",
              "      <td>0</td>\n",
              "      <td>1</td>\n",
              "      <td>4</td>\n",
              "      <td>2007.95</td>\n",
              "    </tr>\n",
              "    <tr>\n",
              "      <th>1337</th>\n",
              "      <td>61</td>\n",
              "      <td>1</td>\n",
              "      <td>29.1</td>\n",
              "      <td>0</td>\n",
              "      <td>2</td>\n",
              "      <td>2</td>\n",
              "      <td>29141.36</td>\n",
              "    </tr>\n",
              "  </tbody>\n",
              "</table>\n",
              "</div>"
            ],
            "text/plain": [
              "      age  sex   bmi  children  smoker  region  expenses\n",
              "1333   50    2  31.0         3       1       2  10600.55\n",
              "1334   18    1  31.9         0       1       1   2205.98\n",
              "1335   18    1  36.9         0       1       3   1629.83\n",
              "1336   21    1  25.8         0       1       4   2007.95\n",
              "1337   61    1  29.1         0       2       2  29141.36"
            ]
          },
          "metadata": {
            "tags": []
          },
          "execution_count": 12
        }
      ]
    },
    {
      "cell_type": "code",
      "metadata": {
        "colab": {
          "base_uri": "https://localhost:8080/"
        },
        "id": "yV-kSscN0VYk",
        "outputId": "6aae048c-e059-4c6f-e99d-1b1ae0923d43"
      },
      "source": [
        "dataset.info()"
      ],
      "execution_count": 13,
      "outputs": [
        {
          "output_type": "stream",
          "text": [
            "<class 'pandas.core.frame.DataFrame'>\n",
            "Int64Index: 1338 entries, 0 to 1337\n",
            "Data columns (total 7 columns):\n",
            " #   Column    Non-Null Count  Dtype  \n",
            "---  ------    --------------  -----  \n",
            " 0   age       1338 non-null   int64  \n",
            " 1   sex       1338 non-null   int64  \n",
            " 2   bmi       1338 non-null   float64\n",
            " 3   children  1338 non-null   int64  \n",
            " 4   smoker    1338 non-null   int64  \n",
            " 5   region    1338 non-null   int64  \n",
            " 6   expenses  1338 non-null   float64\n",
            "dtypes: float64(2), int64(5)\n",
            "memory usage: 83.6 KB\n"
          ],
          "name": "stdout"
        }
      ]
    },
    {
      "cell_type": "code",
      "metadata": {
        "colab": {
          "base_uri": "https://localhost:8080/",
          "height": 247
        },
        "id": "WjNhw2uF1Ig8",
        "outputId": "a697be23-d45a-485b-bd99-8dbd8c0db7ea"
      },
      "source": [
        "dataset.age.plot(kind='hist', bins=25, figsize=(20,5));"
      ],
      "execution_count": 14,
      "outputs": [
        {
          "output_type": "display_data",
          "data": {
            "image/png": "[encoded data removed]",
            "text/plain": [
              "<Figure size 1440x360 with 1 Axes>"
            ]
          },
          "metadata": {
            "tags": [],
            "needs_background": "light"
          }
        }
      ]
    },
    {
      "cell_type": "code",
      "metadata": {
        "colab": {
          "base_uri": "https://localhost:8080/",
          "height": 268
        },
        "id": "vlPMzSMU1XNE",
        "outputId": "9bd7e283-a4bb-42a0-e0cd-313a7b863b9d"
      },
      "source": [
        "dataset.children.plot(kind='hist');"
      ],
      "execution_count": 15,
      "outputs": [
        {
          "output_type": "display_data",
          "data": {
            "image/png": "[encoded data removed]",
            "text/plain": [
              "<Figure size 432x288 with 1 Axes>"
            ]
          },
          "metadata": {
            "tags": [],
            "needs_background": "light"
          }
        }
      ]
    },
    {
      "cell_type": "code",
      "metadata": {
        "colab": {
          "base_uri": "https://localhost:8080/",
          "height": 532
        },
        "id": "XimPZGdX12-s",
        "outputId": "14412562-73e4-42a4-a925-5c05a286769e"
      },
      "source": [
        "# for the other features visual exploration starts with feature transformation using different lambda functions \n",
        "# this was chosen since their datatypes indicated that they only contain numbers\n",
        "# the approach was additionally chosen as an alternative to automated polynomial feature transformation due to its broader spectrum\n",
        "# its easier for the model to predict something that looks similar to a normal (Gauss) distribution\n",
        "\n",
        "df_t = pd.DataFrame()\n",
        "transformations = {'1/x': lambda x: 1/x, \n",
        "                  'x**2': lambda x: x**2,\n",
        "                  'x**3': lambda x: x**3,\n",
        "                  'sqrt': lambda x: np.sqrt(x),\n",
        "                  'log10': lambda x: np.log10(x)\n",
        "                  }\n",
        "\n",
        "for item in ['age', 'bmi', 'expenses']:\n",
        "    fig, axs = plt.subplots(nrows=1, ncols=6, figsize=(15, 3))\n",
        "    axs[0].set_title(item, pad=20)\n",
        "    norm = sns.distplot(dataset[item], ax=axs[0])\n",
        "    norm.set(xlabel='', ylabel='')\n",
        "    \n",
        "    for i, (keys, values) in enumerate(transformations.items()):\n",
        "        df_t['{}_{}'.format(item, keys)] = dataset[item].apply(values)\n",
        "        axs[i+1].set_title(item + ' ' + keys, pad=20)\n",
        "        p = sns.distplot(df_t['{}_{}'.format(item, keys)], ax=axs[i+1])\n",
        "        p.set(xlabel='', ylabel='')\n",
        "    #fig.savefig('./' + item + '.png')\n",
        "    plt.tight_layout()"
      ],
      "execution_count": 16,
      "outputs": [
        {
          "output_type": "display_data",
          "data": {
            "image/png": "[encoded data removed]",
            "text/plain": [
              "<Figure size 1080x216 with 6 Axes>"
            ]
          },
          "metadata": {
            "tags": [],
            "needs_background": "light"
          }
        },
        {
          "output_type": "display_data",
          "data": {
            "image/png": "[encoded data removed]",
            "text/plain": [
              "<Figure size 1080x216 with 6 Axes>"
            ]
          },
          "metadata": {
            "tags": [],
            "needs_background": "light"
          }
        },
        {
          "output_type": "display_data",
          "data": {
            "image/png": "[encoded data removed]",
            "text/plain": [
              "<Figure size 1080x216 with 6 Axes>"
            ]
          },
          "metadata": {
            "tags": [],
            "needs_background": "light"
          }
        }
      ]
    },
    {
      "cell_type": "code",
      "metadata": {
        "id": "0iv8rrb_3WI5"
      },
      "source": [
        "df_dummies = pd.get_dummies(dataset, columns=['sex', 'smoker', 'region', 'children'], drop_first=True)"
      ],
      "execution_count": 17,
      "outputs": []
    },
    {
      "cell_type": "code",
      "metadata": {
        "colab": {
          "base_uri": "https://localhost:8080/",
          "height": 224
        },
        "id": "TKGGu9Kt5b8t",
        "outputId": "824c5662-332e-498b-9e6b-ab7396cb3379"
      },
      "source": [
        "df_dummies.head()"
      ],
      "execution_count": 18,
      "outputs": [
        {
          "output_type": "execute_result",
          "data": {
            "text/html": [
              "<div>\n",
              "<style scoped>\n",
              "    .dataframe tbody tr th:only-of-type {\n",
              "        vertical-align: middle;\n",
              "    }\n",
              "\n",
              "    .dataframe tbody tr th {\n",
              "        vertical-align: top;\n",
              "    }\n",
              "\n",
              "    .dataframe thead th {\n",
              "        text-align: right;\n",
              "    }\n",
              "</style>\n",
              "<table border=\"1\" class=\"dataframe\">\n",
              "  <thead>\n",
              "    <tr style=\"text-align: right;\">\n",
              "      <th></th>\n",
              "      <th>age</th>\n",
              "      <th>bmi</th>\n",
              "      <th>expenses</th>\n",
              "      <th>sex_2</th>\n",
              "      <th>smoker_2</th>\n",
              "      <th>region_2</th>\n",
              "      <th>region_3</th>\n",
              "      <th>region_4</th>\n",
              "      <th>children_1</th>\n",
              "      <th>children_2</th>\n",
              "      <th>children_3</th>\n",
              "      <th>children_4</th>\n",
              "      <th>children_5</th>\n",
              "    </tr>\n",
              "  </thead>\n",
              "  <tbody>\n",
              "    <tr>\n",
              "      <th>0</th>\n",
              "      <td>19</td>\n",
              "      <td>27.9</td>\n",
              "      <td>16884.92</td>\n",
              "      <td>0</td>\n",
              "      <td>1</td>\n",
              "      <td>0</td>\n",
              "      <td>0</td>\n",
              "      <td>1</td>\n",
              "      <td>0</td>\n",
              "      <td>0</td>\n",
              "      <td>0</td>\n",
              "      <td>0</td>\n",
              "      <td>0</td>\n",
              "    </tr>\n",
              "    <tr>\n",
              "      <th>1</th>\n",
              "      <td>18</td>\n",
              "      <td>33.8</td>\n",
              "      <td>1725.55</td>\n",
              "      <td>1</td>\n",
              "      <td>0</td>\n",
              "      <td>0</td>\n",
              "      <td>1</td>\n",
              "      <td>0</td>\n",
              "      <td>1</td>\n",
              "      <td>0</td>\n",
              "      <td>0</td>\n",
              "      <td>0</td>\n",
              "      <td>0</td>\n",
              "    </tr>\n",
              "    <tr>\n",
              "      <th>2</th>\n",
              "      <td>28</td>\n",
              "      <td>33.0</td>\n",
              "      <td>4449.46</td>\n",
              "      <td>1</td>\n",
              "      <td>0</td>\n",
              "      <td>0</td>\n",
              "      <td>1</td>\n",
              "      <td>0</td>\n",
              "      <td>0</td>\n",
              "      <td>0</td>\n",
              "      <td>1</td>\n",
              "      <td>0</td>\n",
              "      <td>0</td>\n",
              "    </tr>\n",
              "    <tr>\n",
              "      <th>3</th>\n",
              "      <td>33</td>\n",
              "      <td>22.7</td>\n",
              "      <td>21984.47</td>\n",
              "      <td>1</td>\n",
              "      <td>0</td>\n",
              "      <td>1</td>\n",
              "      <td>0</td>\n",
              "      <td>0</td>\n",
              "      <td>0</td>\n",
              "      <td>0</td>\n",
              "      <td>0</td>\n",
              "      <td>0</td>\n",
              "      <td>0</td>\n",
              "    </tr>\n",
              "    <tr>\n",
              "      <th>4</th>\n",
              "      <td>32</td>\n",
              "      <td>28.9</td>\n",
              "      <td>3866.86</td>\n",
              "      <td>1</td>\n",
              "      <td>0</td>\n",
              "      <td>1</td>\n",
              "      <td>0</td>\n",
              "      <td>0</td>\n",
              "      <td>0</td>\n",
              "      <td>0</td>\n",
              "      <td>0</td>\n",
              "      <td>0</td>\n",
              "      <td>0</td>\n",
              "    </tr>\n",
              "  </tbody>\n",
              "</table>\n",
              "</div>"
            ],
            "text/plain": [
              "   age   bmi  expenses  sex_2  ...  children_2  children_3  children_4  children_5\n",
              "0   19  27.9  16884.92      0  ...           0           0           0           0\n",
              "1   18  33.8   1725.55      1  ...           0           0           0           0\n",
              "2   28  33.0   4449.46      1  ...           0           1           0           0\n",
              "3   33  22.7  21984.47      1  ...           0           0           0           0\n",
              "4   32  28.9   3866.86      1  ...           0           0           0           0\n",
              "\n",
              "[5 rows x 13 columns]"
            ]
          },
          "metadata": {
            "tags": []
          },
          "execution_count": 18
        }
      ]
    },
    {
      "cell_type": "code",
      "metadata": {
        "id": "UV80icGG52Zd"
      },
      "source": [
        "y, X = np.log10(df_dummies.loc[:,'expenses']), df_dummies.drop(['expenses'], axis=1)"
      ],
      "execution_count": 19,
      "outputs": []
    },
    {
      "cell_type": "code",
      "metadata": {
        "id": "eCDlgI036EEY"
      },
      "source": [
        "X_train, X_test, y_train, y_test = train_test_split(X, y, test_size=.2, random_state=42)"
      ],
      "execution_count": 20,
      "outputs": []
    },
    {
      "cell_type": "code",
      "metadata": {
        "id": "cgTE6NdV8C1Q"
      },
      "source": [
        "def print_scores(regressor, X_train, y_train, X_test, y_test):\n",
        "    \"\"\"\n",
        "    This function uses supplied regressor algorithms to train a model and predict\n",
        "    the target value.\n",
        "    Ultimately the accuracy and other scoring parameters (R^2, MSE, RMSE, LRMSE, MAE) are shown\n",
        "    \"\"\"\n",
        "    regressor.fit(X_train, y_train)\n",
        "    y_prediction = regressor.predict(X_test)\n",
        "    accuracy = accuracy_score(y_true = y_test.astype(int), y_pred = y_prediction.astype(int))\n",
        "    print('Variance-score (R^2): {0:.4f}'.format(regressor.score(X_test, y_test)))\n",
        "    print('Mean squared error: {0:.4f}'.format(np.mean((regressor.predict(X_test) - y_test) ** 2)))\n",
        "    print('Root mean squared error: {0:.4f}'.format(np.sqrt(mean_squared_error(y_true = y_test, y_pred = y_prediction))))\n",
        "    print('log root mean squared error: {0:.4f}'.format(np.sqrt(np.square(np.log10(y_prediction + 1) - np.log10(y_test + 1)).mean())))\n",
        "    print('mean absolute error: {0:.4f}'.format(mean_absolute_error(y_test, y_prediction)))\n",
        "    print('Accuracy: {0:.2f}%'.format(accuracy*100))\n",
        "    return"
      ],
      "execution_count": 21,
      "outputs": []
    },
    {
      "cell_type": "code",
      "metadata": {
        "colab": {
          "base_uri": "https://localhost:8080/"
        },
        "id": "h5IBcDhy8G1e",
        "outputId": "1b45a296-9b75-4f57-aa4c-803354ca50be"
      },
      "source": [
        "# first a simple linear regression model from sklearn is used to establish a baseline for the other models\n",
        "print_scores(LinearRegression(), X_train, y_train, X_test, y_test)"
      ],
      "execution_count": 22,
      "outputs": [
        {
          "output_type": "stream",
          "text": [
            "Variance-score (R^2): 0.8060\n",
            "Mean squared error: 0.0329\n",
            "Root mean squared error: 0.1814\n",
            "log root mean squared error: 0.0160\n",
            "mean absolute error: 0.1192\n",
            "Accuracy: 92.16%\n"
          ],
          "name": "stdout"
        }
      ]
    },
    {
      "cell_type": "code",
      "metadata": {
        "colab": {
          "base_uri": "https://localhost:8080/"
        },
        "id": "hzVzt6hs8O8d",
        "outputId": "132d9498-f168-4047-c65e-42bbe44c9960"
      },
      "source": [
        "# trying a Lasso regression next, which (untuned) performs worse than the baseline\n",
        "print_scores(Lasso(), X_train, y_train, X_test, y_test)"
      ],
      "execution_count": 23,
      "outputs": [
        {
          "output_type": "stream",
          "text": [
            "Variance-score (R^2): 0.2709\n",
            "Mean squared error: 0.1237\n",
            "Root mean squared error: 0.3516\n",
            "log root mean squared error: 0.0311\n",
            "mean absolute error: 0.2821\n",
            "Accuracy: 73.51%\n"
          ],
          "name": "stdout"
        }
      ]
    },
    {
      "cell_type": "code",
      "metadata": {
        "colab": {
          "base_uri": "https://localhost:8080/"
        },
        "id": "zgNaMMRw8ZpX",
        "outputId": "06ddd6fa-8b72-4a58-846f-f23f1789970c"
      },
      "source": [
        "# Ridge regression with some experience based tuning performs slightly better than linear regression\n",
        "print_scores(Ridge(alpha=0.1, normalize=True), X_train, y_train, X_test, y_test)"
      ],
      "execution_count": 24,
      "outputs": [
        {
          "output_type": "stream",
          "text": [
            "Variance-score (R^2): 0.7941\n",
            "Mean squared error: 0.0349\n",
            "Root mean squared error: 0.1869\n",
            "log root mean squared error: 0.0167\n",
            "mean absolute error: 0.1289\n",
            "Accuracy: 92.54%\n"
          ],
          "name": "stdout"
        }
      ]
    },
    {
      "cell_type": "code",
      "metadata": {
        "colab": {
          "base_uri": "https://localhost:8080/"
        },
        "id": "xaOExoAX8iQB",
        "outputId": "464e85bd-795c-4ba6-a562-e9ab93e0440a"
      },
      "source": [
        "regressor = XGBRegressor()\n",
        "print_scores(regressor, X_train, y_train, X_test, y_test)"
      ],
      "execution_count": 25,
      "outputs": [
        {
          "output_type": "stream",
          "text": [
            "[10:01:26] WARNING: /workspace/src/objective/regression_obj.cu:152: reg:linear is now deprecated in favor of reg:squarederror.\n",
            "Variance-score (R^2): 0.8546\n",
            "Mean squared error: 0.0247\n",
            "Root mean squared error: 0.1570\n",
            "log root mean squared error: 0.0140\n",
            "mean absolute error: 0.0856\n",
            "Accuracy: 92.16%\n"
          ],
          "name": "stdout"
        }
      ]
    },
    {
      "cell_type": "code",
      "metadata": {
        "colab": {
          "base_uri": "https://localhost:8080/",
          "height": 295
        },
        "id": "fG9XA2qW8u4K",
        "outputId": "97566d78-e58a-4c97-8cd4-0bb954e5758e"
      },
      "source": [
        "# in order to understand the good and 'bad' predictions we can visualize the predicted vs actual values in a plot\n",
        "plt.scatter(regressor.predict(X_train), regressor.predict(X_train) - y_train, c='black', s=40, label='training', alpha=0.4)\n",
        "plt.scatter(regressor.predict(X_test), regressor.predict(X_test) - y_test, c='m', s=40, label='test', alpha=0.4)\n",
        "plt.legend(loc='lower left')\n",
        "plt.title('prediction of expense values')\n",
        "plt.xlabel('predicted log10 expense')\n",
        "plt.ylabel('difference predicted vs actual expense');\n",
        "#plt.savefig('expense_prediction.png')"
      ],
      "execution_count": 26,
      "outputs": [
        {
          "output_type": "display_data",
          "data": {
            "image/png": "[encoded data removed]",
            "text/plain": [
              "<Figure size 432x288 with 1 Axes>"
            ]
          },
          "metadata": {
            "tags": [],
            "needs_background": "light"
          }
        }
      ]
    },
    {
      "cell_type": "code",
      "metadata": {
        "id": "PDnT5nm-8x1Q"
      },
      "source": [
        "def evaluate_model_on_mae(model, X_test, y_test):\n",
        "  \"\"\"\n",
        "  helper function to return the models mean absolute error for the predictions\n",
        "  \n",
        "  Parameters\n",
        "  ----------\n",
        "  model: regression model \n",
        "  X_test: test data in tabular format\n",
        "  y_test: expected target values\n",
        "\n",
        "  Returns\n",
        "  ---------\n",
        "  mean absolute error using sklearn.metrics mean_absolute_error method\n",
        "  \"\"\"\n",
        "  y_prediction = model.predict(X_test)\n",
        "  return mean_absolute_error(y_test, y_prediction)"
      ],
      "execution_count": 27,
      "outputs": []
    },
    {
      "cell_type": "code",
      "metadata": {
        "id": "25Vw70ddIckT"
      },
      "source": [
        "def evaluate_model_on_loss(model, X_test, y_test):\n",
        "  y_prediction = model.predict(X_test)\n",
        "  return log_loss(y_test, y_prediction)"
      ],
      "execution_count": 33,
      "outputs": []
    },
    {
      "cell_type": "code",
      "metadata": {
        "id": "6xkgb9O3JU4O"
      },
      "source": [
        "def evaluate_model_on_mse(model, X_test, y_test):\n",
        "  y_prediction = model.predict(X_test)\n",
        "  return mean_squared_error(y_test, y_prediction)"
      ],
      "execution_count": 34,
      "outputs": []
    },
    {
      "cell_type": "code",
      "metadata": {
        "id": "Xe7RXH3N3CWU",
        "colab": {
          "base_uri": "https://localhost:8080/",
          "height": 317
        },
        "outputId": "f6b54978-2c21-4279-e2b7-9b04902bef67"
      },
      "source": [
        "# RUN THIS CELL TO TEST YOUR MODEL. DO NOT MODIFY CONTENTS.\n",
        "# Test model by checking how well the model generalizes using the test set.\n",
        "\n",
        "mae = evaluate_model_on_mae(regressor, X_test, y_test)\n",
        "mse = evaluate_model_on_mse(regressor, X_test, y_test)\n",
        "\n",
        "\n",
        "print(\"Testing set Mean Abs Error: {:5.2f} expenses\".format(mae))\n",
        "\n",
        "if mae < 3500:\n",
        "  print(\"You passed the challenge. Great job!\")\n",
        "else:\n",
        "  print(\"The Mean Abs Error must be less than 3500. Keep trying.\")\n",
        "\n",
        "# Plot predictions.\n",
        "test_predictions = regressor.score( X_test, y_test).flatten()\n",
        "\n",
        "a = plt.axes(aspect='equal')\n",
        "plt.scatter(mae, test_predictions)\n",
        "plt.xlabel('True values (expenses)')\n",
        "plt.ylabel('Predictions (expenses)')\n",
        "lims = [0, 50000]\n",
        "plt.xlim(lims)\n",
        "plt.ylim(lims)\n",
        "_ = plt.plot(lims,lims)\n"
      ],
      "execution_count": 41,
      "outputs": [
        {
          "output_type": "stream",
          "text": [
            "Testing set Mean Abs Error:  0.09 expenses\n",
            "You passed the challenge. Great job!\n"
          ],
          "name": "stdout"
        },
        {
          "output_type": "display_data",
          "data": {
            "image/png": "[encoded data removed]",
            "text/plain": [
              "<Figure size 432x288 with 1 Axes>"
            ]
          },
          "metadata": {
            "tags": [],
            "needs_background": "light"
          }
        }
      ]
    }
  ]
}